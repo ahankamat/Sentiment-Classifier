{
  "nbformat": 4,
  "nbformat_minor": 0,
  "metadata": {
    "colab": {
      "provenance": [],
      "authorship_tag": "ABX9TyOLHCQrVN1bS88Q60+W2GeY",
      "include_colab_link": true
    },
    "kernelspec": {
      "name": "python3",
      "display_name": "Python 3"
    },
    "language_info": {
      "name": "python"
    }
  },
  "cells": [
    {
      "cell_type": "markdown",
      "metadata": {
        "id": "view-in-github",
        "colab_type": "text"
      },
      "source": [
        "<a href=\"https://colab.research.google.com/github/ahankamat/Sentiment-Classifier/blob/main/SentimentClassifier.ipynb\" target=\"_parent\"><img src=\"https://colab.research.google.com/assets/colab-badge.svg\" alt=\"Open In Colab\"/></a>"
      ]
    },
    {
      "cell_type": "code",
      "execution_count": 3,
      "metadata": {
        "id": "7wPxIjkb_0OX"
      },
      "outputs": [],
      "source": [
        "import numpy as np\n",
        "import tensorflow as tf\n",
        "from tensorflow import keras\n",
        "from keras.preprocessing.text import one_hot\n",
        "from keras.preprocessing.sequence import pad_sequences\n",
        "from keras.models import Sequential\n",
        "from keras.layers import Dense\n",
        "from keras.layers import Flatten\n",
        "from keras.layers import Embedding\n",
        "reviews = ['nice food',\n",
        "        'amazing restaurant',\n",
        "        'too good',\n",
        "        'just loved it!',\n",
        "        'will go again',\n",
        "        'horrible food',\n",
        "        'never go there',\n",
        "        'poor service',\n",
        "        'poor quality',\n",
        "        'needs improvement']\n",
        "\n",
        "sentiment = np.array([1,1,1,1,1,0,0,0,0,0])\n"
      ]
    },
    {
      "cell_type": "code",
      "source": [
        "one_hot(\"amazing restaurant\",30)"
      ],
      "metadata": {
        "colab": {
          "base_uri": "https://localhost:8080/"
        },
        "id": "z0VlZ9kE_606",
        "outputId": "9a5d48af-74f2-431f-e5a9-0b6f4e959f92"
      },
      "execution_count": 2,
      "outputs": [
        {
          "output_type": "execute_result",
          "data": {
            "text/plain": [
              "[12, 13]"
            ]
          },
          "metadata": {},
          "execution_count": 2
        }
      ]
    },
    {
      "cell_type": "code",
      "source": [
        "# creating encoded vectors for each word\n",
        "vocab_size = 30\n",
        "encoded_reviews = [one_hot(d , vocab_size) for d in reviews]\n",
        "encoded_reviews"
      ],
      "metadata": {
        "colab": {
          "base_uri": "https://localhost:8080/"
        },
        "id": "_d7ZcZucADv7",
        "outputId": "429e9803-9d91-4e46-c5b6-9686189ccf54"
      },
      "execution_count": 6,
      "outputs": [
        {
          "output_type": "execute_result",
          "data": {
            "text/plain": [
              "[[27, 12],\n",
              " [12, 13],\n",
              " [23, 5],\n",
              " [29, 9, 26],\n",
              " [11, 2, 8],\n",
              " [25, 12],\n",
              " [17, 2, 29],\n",
              " [11, 11],\n",
              " [11, 25],\n",
              " [10, 26]]"
            ]
          },
          "metadata": {},
          "execution_count": 6
        }
      ]
    },
    {
      "cell_type": "code",
      "source": [
        "# padding required as length of each sentence is different\n",
        "maxLength=3\n",
        "padded_reviews = pad_sequences(encoded_reviews,maxLength,padding=\"post\")\n",
        "padded_reviews"
      ],
      "metadata": {
        "colab": {
          "base_uri": "https://localhost:8080/"
        },
        "id": "sXZSJo9UBrCJ",
        "outputId": "4d78b4d9-459e-40a8-81e0-78941e251947"
      },
      "execution_count": 10,
      "outputs": [
        {
          "output_type": "execute_result",
          "data": {
            "text/plain": [
              "array([[27, 12,  0],\n",
              "       [12, 13,  0],\n",
              "       [23,  5,  0],\n",
              "       [29,  9, 26],\n",
              "       [11,  2,  8],\n",
              "       [25, 12,  0],\n",
              "       [17,  2, 29],\n",
              "       [11, 11,  0],\n",
              "       [11, 25,  0],\n",
              "       [10, 26,  0]], dtype=int32)"
            ]
          },
          "metadata": {},
          "execution_count": 10
        }
      ]
    },
    {
      "cell_type": "code",
      "source": [
        "embedded_vector_size = 5\n",
        "model = Sequential()\n",
        "model.add(Embedding(vocab_size , embedded_vector_size , input_length=maxLength , name = 'embedding'))\n",
        "model.add(Flatten())\n",
        "model.add(Dense(1,activation='sigmoid'))"
      ],
      "metadata": {
        "id": "zTgijUNIC8Tl"
      },
      "execution_count": 12,
      "outputs": []
    },
    {
      "cell_type": "code",
      "source": [
        "X = padded_reviews\n",
        "Y = sentiment"
      ],
      "metadata": {
        "id": "53-yusI8E1LZ"
      },
      "execution_count": 13,
      "outputs": []
    },
    {
      "cell_type": "code",
      "source": [
        "model.compile(optimizer='adam', loss='binary_crossentropy', metrics=['accuracy'])\n",
        "print(model.summary())"
      ],
      "metadata": {
        "colab": {
          "base_uri": "https://localhost:8080/"
        },
        "id": "lyJQUDPSFPBk",
        "outputId": "600f3473-8003-4bb2-bc30-248164aa4d11"
      },
      "execution_count": 14,
      "outputs": [
        {
          "output_type": "stream",
          "name": "stdout",
          "text": [
            "Model: \"sequential_1\"\n",
            "_________________________________________________________________\n",
            " Layer (type)                Output Shape              Param #   \n",
            "=================================================================\n",
            " embedding (Embedding)       (None, 3, 5)              150       \n",
            "                                                                 \n",
            " flatten (Flatten)           (None, 15)                0         \n",
            "                                                                 \n",
            " dense (Dense)               (None, 1)                 16        \n",
            "                                                                 \n",
            "=================================================================\n",
            "Total params: 166\n",
            "Trainable params: 166\n",
            "Non-trainable params: 0\n",
            "_________________________________________________________________\n",
            "None\n"
          ]
        }
      ]
    },
    {
      "cell_type": "code",
      "source": [
        "model.fit(X, Y, epochs=50, verbose=0)"
      ],
      "metadata": {
        "colab": {
          "base_uri": "https://localhost:8080/"
        },
        "id": "gcYsKSPTFP4m",
        "outputId": "74a50de6-3074-42b3-86b5-5ea0e70bf1da"
      },
      "execution_count": 16,
      "outputs": [
        {
          "output_type": "execute_result",
          "data": {
            "text/plain": [
              "<keras.callbacks.History at 0x78f14263b2e0>"
            ]
          },
          "metadata": {},
          "execution_count": 16
        }
      ]
    },
    {
      "cell_type": "code",
      "source": [
        "loss, accuracy = model.evaluate(X, Y)\n",
        "accuracy"
      ],
      "metadata": {
        "colab": {
          "base_uri": "https://localhost:8080/"
        },
        "id": "rOH4MJKKFh-b",
        "outputId": "cf91231a-66ac-4eb8-9616-06e0fb76222b"
      },
      "execution_count": 18,
      "outputs": [
        {
          "output_type": "stream",
          "name": "stdout",
          "text": [
            "1/1 [==============================] - 0s 285ms/step - loss: 0.6393 - accuracy: 1.0000\n"
          ]
        },
        {
          "output_type": "execute_result",
          "data": {
            "text/plain": [
              "1.0"
            ]
          },
          "metadata": {},
          "execution_count": 18
        }
      ]
    },
    {
      "cell_type": "code",
      "source": [
        "model.get_layer('embedding').get_weights()[0]\n"
      ],
      "metadata": {
        "colab": {
          "base_uri": "https://localhost:8080/"
        },
        "id": "REwgXk3FFs_q",
        "outputId": "04e80257-5117-4eee-ce56-a36af76cff5e"
      },
      "execution_count": 21,
      "outputs": [
        {
          "output_type": "execute_result",
          "data": {
            "text/plain": [
              "array([[-0.0173381 , -0.08213683, -0.0859511 ,  0.03461405, -0.09765379],\n",
              "       [ 0.03064877, -0.03371888, -0.03894554,  0.02544412,  0.04630467],\n",
              "       [-0.07255402,  0.02484236, -0.00992689,  0.07654571,  0.00692584],\n",
              "       [-0.0469657 , -0.04456965,  0.03266944, -0.02002057,  0.03065229],\n",
              "       [ 0.02489444, -0.01895588,  0.03154551,  0.01989931,  0.02773818],\n",
              "       [-0.02962808,  0.08063365, -0.0101248 ,  0.00512456, -0.00363569],\n",
              "       [ 0.00311808,  0.00670009,  0.01018016,  0.00413935,  0.04391822],\n",
              "       [ 0.02690073, -0.01635771,  0.0425673 ,  0.03118685,  0.03765882],\n",
              "       [ 0.09743157,  0.08776785,  0.0109087 , -0.0356761 ,  0.05201031],\n",
              "       [-0.08347362,  0.05993803, -0.0854117 ,  0.0293798 ,  0.00176756],\n",
              "       [-0.03122869,  0.03882387,  0.0685003 , -0.08920147,  0.00258466],\n",
              "       [-0.09925015, -0.08966143,  0.04528621, -0.00881151,  0.06542523],\n",
              "       [ 0.03926656, -0.00690406, -0.00177786,  0.00373133, -0.05490942],\n",
              "       [-0.04476914,  0.00808552, -0.03415478,  0.05522729, -0.04961097],\n",
              "       [-0.04731237, -0.01381182,  0.02502376,  0.03355578,  0.04730788],\n",
              "       [-0.02256935,  0.02652139, -0.00098626,  0.02793488,  0.01547563],\n",
              "       [-0.03540746, -0.0033468 , -0.00783075,  0.03804756,  0.00455253],\n",
              "       [-0.05874979,  0.06311993,  0.04931566, -0.0929319 ,  0.08737471],\n",
              "       [-0.03396422, -0.00410845, -0.01633234, -0.01411098,  0.03036484],\n",
              "       [ 0.00317555,  0.00767111,  0.00402503, -0.04786627, -0.02652929],\n",
              "       [-0.04670416,  0.01675892, -0.02082654, -0.03714546, -0.04839329],\n",
              "       [ 0.017613  , -0.01588476, -0.01454525,  0.00734656,  0.02721477],\n",
              "       [ 0.02899272,  0.01994456,  0.0217551 ,  0.04108914, -0.00530729],\n",
              "       [ 0.08960369, -0.05625422, -0.02247179,  0.07192524, -0.08371662],\n",
              "       [ 0.01491313,  0.00932961, -0.04587496, -0.02472903, -0.04247539],\n",
              "       [-0.08205335, -0.02319388,  0.03097191, -0.09426795, -0.00036249],\n",
              "       [ 0.00679244, -0.05900247,  0.08592491, -0.09936596,  0.00473515],\n",
              "       [ 0.08816873, -0.02108608, -0.07993927,  0.06657719, -0.00559278],\n",
              "       [ 0.00168489, -0.01036735, -0.04559853,  0.04454288,  0.02433017],\n",
              "       [ 0.0302671 , -0.07178631, -0.02084218,  0.03519037, -0.02799636]],\n",
              "      dtype=float32)"
            ]
          },
          "metadata": {},
          "execution_count": 21
        }
      ]
    },
    {
      "cell_type": "code",
      "source": [
        "weights = model.get_layer('embedding').get_weights()[0]\n",
        "len(weights)"
      ],
      "metadata": {
        "colab": {
          "base_uri": "https://localhost:8080/"
        },
        "id": "81528mhXGJWe",
        "outputId": "4429e473-4cf3-48da-9692-7d6545c42987"
      },
      "execution_count": 23,
      "outputs": [
        {
          "output_type": "execute_result",
          "data": {
            "text/plain": [
              "30"
            ]
          },
          "metadata": {},
          "execution_count": 23
        }
      ]
    }
  ]
}